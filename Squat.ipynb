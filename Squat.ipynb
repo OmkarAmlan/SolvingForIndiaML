{
 "cells": [
  {
   "cell_type": "code",
   "execution_count": 1,
   "id": "508d1fa6",
   "metadata": {},
   "outputs": [
    {
     "name": "stdout",
     "output_type": "stream",
     "text": [
      "Collecting mediapipe\n",
      "  Downloading mediapipe-0.9.2.1-cp310-cp310-win_amd64.whl (50.1 MB)\n",
      "     ---------------------------------------- 50.1/50.1 MB 2.3 MB/s eta 0:00:00\n",
      "Collecting opencv-python\n",
      "  Downloading opencv_python-4.7.0.72-cp37-abi3-win_amd64.whl (38.2 MB)\n",
      "     ---------------------------------------- 38.2/38.2 MB 3.5 MB/s eta 0:00:00\n",
      "Collecting absl-py\n",
      "  Using cached absl_py-1.4.0-py3-none-any.whl (126 kB)\n",
      "Requirement already satisfied: attrs>=19.1.0 in c:\\users\\crash\\anaconda3\\envs\\fithub\\lib\\site-packages (from mediapipe) (22.1.0)\n",
      "Collecting protobuf<4,>=3.11\n",
      "  Downloading protobuf-3.20.3-cp310-cp310-win_amd64.whl (904 kB)\n",
      "     -------------------------------------- 904.0/904.0 kB 2.7 MB/s eta 0:00:00\n",
      "Requirement already satisfied: matplotlib in c:\\users\\crash\\anaconda3\\envs\\fithub\\lib\\site-packages (from mediapipe) (3.7.1)\n",
      "Collecting flatbuffers>=2.0\n",
      "  Downloading flatbuffers-23.3.3-py2.py3-none-any.whl (26 kB)\n",
      "Requirement already satisfied: numpy in c:\\users\\crash\\anaconda3\\envs\\fithub\\lib\\site-packages (from mediapipe) (1.24.2)\n",
      "Collecting opencv-contrib-python\n",
      "  Downloading opencv_contrib_python-4.7.0.72-cp37-abi3-win_amd64.whl (44.9 MB)\n",
      "     ---------------------------------------- 44.9/44.9 MB 3.6 MB/s eta 0:00:00\n",
      "Requirement already satisfied: contourpy>=1.0.1 in c:\\users\\crash\\anaconda3\\envs\\fithub\\lib\\site-packages (from matplotlib->mediapipe) (1.0.7)\n",
      "Requirement already satisfied: python-dateutil>=2.7 in c:\\users\\crash\\anaconda3\\envs\\fithub\\lib\\site-packages (from matplotlib->mediapipe) (2.8.2)\n",
      "Requirement already satisfied: pillow>=6.2.0 in c:\\users\\crash\\anaconda3\\envs\\fithub\\lib\\site-packages (from matplotlib->mediapipe) (9.4.0)\n",
      "Requirement already satisfied: pyparsing>=2.3.1 in c:\\users\\crash\\anaconda3\\envs\\fithub\\lib\\site-packages (from matplotlib->mediapipe) (3.0.9)\n",
      "Requirement already satisfied: packaging>=20.0 in c:\\users\\crash\\anaconda3\\envs\\fithub\\lib\\site-packages (from matplotlib->mediapipe) (22.0)\n",
      "Requirement already satisfied: kiwisolver>=1.0.1 in c:\\users\\crash\\anaconda3\\envs\\fithub\\lib\\site-packages (from matplotlib->mediapipe) (1.4.4)\n",
      "Requirement already satisfied: fonttools>=4.22.0 in c:\\users\\crash\\anaconda3\\envs\\fithub\\lib\\site-packages (from matplotlib->mediapipe) (4.39.3)\n",
      "Requirement already satisfied: cycler>=0.10 in c:\\users\\crash\\anaconda3\\envs\\fithub\\lib\\site-packages (from matplotlib->mediapipe) (0.11.0)\n",
      "Requirement already satisfied: six>=1.5 in c:\\users\\crash\\anaconda3\\envs\\fithub\\lib\\site-packages (from python-dateutil>=2.7->matplotlib->mediapipe) (1.16.0)\n",
      "Installing collected packages: flatbuffers, protobuf, opencv-python, opencv-contrib-python, absl-py, mediapipe\n",
      "Successfully installed absl-py-1.4.0 flatbuffers-23.3.3 mediapipe-0.9.2.1 opencv-contrib-python-4.7.0.72 opencv-python-4.7.0.72 protobuf-3.20.3\n"
     ]
    }
   ],
   "source": [
    "!pip install mediapipe opencv-python"
   ]
  },
  {
   "cell_type": "code",
   "execution_count": 2,
   "id": "2e576808",
   "metadata": {},
   "outputs": [],
   "source": [
    "import cv2\n",
    "import mediapipe as mp\n",
    "import numpy as np\n",
    "mp_drawing=mp.solutions.drawing_utils #visualising poses\n",
    "mp_pose=mp.solutions.pose #importing pose estimation model"
   ]
  },
  {
   "cell_type": "code",
   "execution_count": 3,
   "id": "e210f767",
   "metadata": {},
   "outputs": [],
   "source": [
    "def angle(a,b,c):\n",
    "    a=np.array(a)\n",
    "    b=np.array(b)\n",
    "    c=np.array(c)\n",
    "    \n",
    "    rad=np.arctan2(c[1]-b[1],c[0]-b[0])-np.arctan2(a[1]-b[1],a[0]-b[0])\n",
    "    degree=np.abs(rad*180/np.pi)\n",
    "    \n",
    "    angle=min(degree,360-degree)\n",
    "    return int(angle)"
   ]
  },
  {
   "cell_type": "code",
   "execution_count": 14,
   "id": "af3e4c7b",
   "metadata": {},
   "outputs": [],
   "source": [
    "cap = cv2.VideoCapture(0)\n",
    "\n",
    "#Training Monitoring\n",
    "counter=0\n",
    "stage=None\n",
    "bool_torso=None\n",
    "bool_foot=None\n",
    "\n",
    "# Initialize Mediapipe Pose model\n",
    "with mp.solutions.pose.Pose() as pose:\n",
    "    while cap.isOpened():\n",
    "        # Read frame from Webcam\n",
    "        success, image = cap.read()\n",
    "        if not success:\n",
    "            break\n",
    "\n",
    "        # Convert to RGB\n",
    "        image = cv2.cvtColor(image, cv2.COLOR_BGR2RGB)\n",
    "\n",
    "        # Process image with Mediapipe Pose model\n",
    "        results = pose.process(image)\n",
    "        \n",
    "        #Recolor to BGR\n",
    "        image = cv2.cvtColor(image, cv2.COLOR_RGB2BGR)\n",
    "        \n",
    "        #Extract Landmarks\n",
    "        try:\n",
    "            landmarks=results.pose_landmarks.landmark\n",
    "            \n",
    "            #Compute angle\n",
    "            left_hip=[landmarks[mp_pose.PoseLandmark.LEFT_HIP.value].x,landmarks[mp_pose.PoseLandmark.LEFT_HIP.value].y]\n",
    "            left_knee=[landmarks[mp_pose.PoseLandmark.LEFT_KNEE.value].x,landmarks[mp_pose.PoseLandmark.LEFT_KNEE.value].y]\n",
    "            left_ankle=[landmarks[mp_pose.PoseLandmark.LEFT_ANKLE.value].x,landmarks[mp_pose.PoseLandmark.LEFT_ANKLE.value].y]\n",
    "            knee_angle=angle(left_hip,left_knee,left_ankle)\n",
    "            \n",
    "            left_heel=[landmarks[mp_pose.PoseLandmark.LEFT_HEEL.value].x,landmarks[mp_pose.PoseLandmark.LEFT_HEEL.value].y]\n",
    "            left_foot_index=[landmarks[mp_pose.PoseLandmark.LEFT_FOOT_INDEX.value].x,landmarks[mp_pose.PoseLandmark.LEFT_FOOT_INDEX.value].y]\n",
    "            foot_angle=angle(left_knee,left_heel,left_foot_index)\n",
    "            \n",
    "            left_hip=[landmarks[mp_pose.PoseLandmark.LEFT_HIP.value].x,landmarks[mp_pose.PoseLandmark.LEFT_HIP.value].y]\n",
    "            left_shoulder=[landmarks[mp_pose.PoseLandmark.LEFT_SHOULDER.value].x,landmarks[mp_pose.PoseLandmark.LEFT_SHOULDER.value].y]\n",
    "            torso_angle=angle(left_knee,left_hip,left_shoulder)\n",
    "            \n",
    "            #Output Angle\n",
    "            cv2.putText(image, str(knee_angle),tuple(np.multiply(left_knee,[1280,720]).astype(int)),\n",
    "                        cv2.FONT_HERSHEY_SIMPLEX, 0.5, (255,255,255), 2,cv2.LINE_AA)\n",
    "            \n",
    "            #Counter Logic\n",
    "            if knee_angle>170:\n",
    "                stage=\"up\"\n",
    "            if knee_angle<100 and stage==\"up\":\n",
    "                stage=\"down\"\n",
    "                counter+=1\n",
    "                \n",
    "            #Pose Correction Logic\n",
    "            if foot_angle<60:\n",
    "                bool_foot=1\n",
    "            else:\n",
    "                bool_foot=0\n",
    "                \n",
    "            if torso_angle<60:\n",
    "                bool_torso=1\n",
    "            else:\n",
    "                bool_torso=0\n",
    "            \n",
    "        except:\n",
    "            pass\n",
    "        \n",
    "        #Display Counter\n",
    "        cv2.rectangle(image,(0,0),(150,75),(0,0,0),-1)\n",
    "        cv2.rectangle(image,(0,450),(640,480),(0,0,0),-1)\n",
    "        cv2.putText(image,\"REPS\",(10,10),cv2.FONT_HERSHEY_SIMPLEX,0.5,(255,255,255),2,cv2.LINE_AA)\n",
    "        cv2.putText(image,str(counter),(15,50),cv2.FONT_HERSHEY_SIMPLEX,0.5,(255,255,255),2,cv2.LINE_AA)\n",
    "        if bool_torso==1:\n",
    "            cv2.putText(image,\"Upper body hunched forward\",(15,465),cv2.FONT_HERSHEY_SIMPLEX,0.5,(255,255,255),2,cv2.LINE_AA)\n",
    "            \n",
    "        if bool_foot==1:\n",
    "            cv2.putText(image,\"Knees leaning forward\",(320,465),cv2.FONT_HERSHEY_SIMPLEX,0.5,(255,255,255),2,cv2.LINE_AA)\n",
    "\n",
    "\n",
    "        # Draw pose landmarks\n",
    "        if results.pose_landmarks:\n",
    "            mp.solutions.drawing_utils.draw_landmarks(image, results.pose_landmarks, mp_pose.POSE_CONNECTIONS,\n",
    "                                                     mp_drawing.DrawingSpec(color=(225,105,65), thickness=2,circle_radius=2),\n",
    "                                                     mp_drawing.DrawingSpec(color=(180,229,255), thickness=2,circle_radius=2))\n",
    "\n",
    "        # Display webcam feed\n",
    "        cv2.imshow('Feed',image)\n",
    "        if cv2.waitKey(1) & 0xFF == ord('x'):\n",
    "            break\n",
    "\n",
    "    cap.release()\n",
    "    cv2.destroyAllWindows()"
   ]
  },
  {
   "cell_type": "code",
   "execution_count": 13,
   "id": "805a091c",
   "metadata": {},
   "outputs": [
    {
     "data": {
      "text/plain": [
       "[2, 0, 0]"
      ]
     },
     "execution_count": 13,
     "metadata": {},
     "output_type": "execute_result"
    }
   ],
   "source": [
    "import pickle\n",
    "op=[counter, bool_torso, bool_foot]\n",
    "op"
   ]
  }
 ],
 "metadata": {
  "kernelspec": {
   "display_name": "Python 3 (ipykernel)",
   "language": "python",
   "name": "python3"
  },
  "language_info": {
   "codemirror_mode": {
    "name": "ipython",
    "version": 3
   },
   "file_extension": ".py",
   "mimetype": "text/x-python",
   "name": "python",
   "nbconvert_exporter": "python",
   "pygments_lexer": "ipython3",
   "version": "3.10.9"
  }
 },
 "nbformat": 4,
 "nbformat_minor": 5
}
